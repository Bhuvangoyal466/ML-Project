{
 "cells": [
  {
   "cell_type": "code",
   "execution_count": null,
   "metadata": {
    "colab": {
     "base_uri": "https://localhost:8080/"
    },
    "executionInfo": {
     "elapsed": 63975,
     "status": "ok",
     "timestamp": 1742023222595,
     "user": {
      "displayName": "Bhuvan photos",
      "userId": "10620609974950133631"
     },
     "user_tz": -330
    },
    "id": "CgF-n1wNpKht",
    "outputId": "1b8e472e-fe71-45ab-8100-6e94adb730c8"
   },
   "outputs": [],
   "source": [
    "from google.colab import drive\n",
    "import os\n",
    "\n",
    "# Mount Google Drive\n",
    "drive.mount('/content/drive')\n",
    "\n",
    "# Define paths\n",
    "zip_path = \"/content/drive/My Drive/accident-detection.zip\"  # Update with your actual ZIP file path\n",
    "extract_path = \"/content/drive/My Drive/accident-dataset\"\n",
    "\n",
    "# Unzip dataset\n",
    "!unzip -q \"$zip_path\" -d \"$extract_path\"\n",
    "\n",
    "# Verify dataset extraction\n",
    "print(\"Extracted files:\", os.listdir(extract_path))\n"
   ]
  },
  {
   "cell_type": "code",
   "execution_count": null,
   "metadata": {
    "colab": {
     "base_uri": "https://localhost:8080/"
    },
    "executionInfo": {
     "elapsed": 97189,
     "status": "ok",
     "timestamp": 1742023476896,
     "user": {
      "displayName": "Bhuvan photos",
      "userId": "10620609974950133631"
     },
     "user_tz": -330
    },
    "id": "RH8jir5TravR",
    "outputId": "a79efb25-e3fe-49ec-c06d-feb004a6c15f"
   },
   "outputs": [],
   "source": [
    "!pip install ultralytics\n",
    "from IPython import display\n",
    "\n",
    "import ultralytics\n",
    "ultralytics.checks()"
   ]
  },
  {
   "cell_type": "code",
   "execution_count": null,
   "metadata": {
    "executionInfo": {
     "elapsed": 19,
     "status": "ok",
     "timestamp": 1742023509731,
     "user": {
      "displayName": "Bhuvan photos",
      "userId": "10620609974950133631"
     },
     "user_tz": -330
    },
    "id": "dAxz8L1UsT4h"
   },
   "outputs": [],
   "source": [
    "from ultralytics import YOLO\n",
    "\n",
    "from IPython.display import display, Image"
   ]
  },
  {
   "cell_type": "code",
   "execution_count": null,
   "metadata": {
    "colab": {
     "base_uri": "https://localhost:8080/"
    },
    "executionInfo": {
     "elapsed": 101,
     "status": "ok",
     "timestamp": 1742023565453,
     "user": {
      "displayName": "Bhuvan photos",
      "userId": "10620609974950133631"
     },
     "user_tz": -330
    },
    "id": "wpn5ID9gseD8",
    "outputId": "100bd5e1-e71f-4466-ec4a-a6e219d43d3c"
   },
   "outputs": [],
   "source": [
    "!nvidia-smi"
   ]
  },
  {
   "cell_type": "code",
   "execution_count": null,
   "metadata": {
    "colab": {
     "base_uri": "https://localhost:8080/"
    },
    "executionInfo": {
     "elapsed": 6617986,
     "status": "ok",
     "timestamp": 1742034303158,
     "user": {
      "displayName": "Bhuvan photos",
      "userId": "10620609974950133631"
     },
     "user_tz": -330
    },
    "id": "EbqSJ_b6slxc",
    "outputId": "40e88403-cabe-438e-d995-3f3e251f5e23"
   },
   "outputs": [],
   "source": [
    "!yolo task=detect mode=train model=yolov8m.pt data=\"/content/drive/MyDrive/accident-dataset/accident-detection/data.yaml\" epochs=70 imgsz=640"
   ]
  }
 ],
 "metadata": {
  "accelerator": "GPU",
  "colab": {
   "authorship_tag": "ABX9TyPTMjQDpamVAwJdcUfbQoRk",
   "gpuType": "T4",
   "provenance": []
  },
  "kernelspec": {
   "display_name": "Python 3",
   "name": "python3"
  },
  "language_info": {
   "name": "python"
  }
 },
 "nbformat": 4,
 "nbformat_minor": 0
}
