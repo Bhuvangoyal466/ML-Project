{
  "cells": [
    {
      "cell_type": "code",
      "execution_count": null,
      "metadata": {
        "colab": {
          "base_uri": "https://localhost:8080/"
        },
        "id": "enyNAGZBGCj3",
        "outputId": "3a24411c-945a-478e-c7d0-83e9a740a095"
      },
      "outputs": [],
      "source": [
        "from google.colab import drive\n",
        "import os\n",
        "\n",
        "# Mount Google Drive to access files\n",
        "drive.mount('/content/drive')\n",
        "\n",
        "# Define the base directory for the project\n",
        "base_dir = \"/content/drive/My Drive/Helmet_Detector\"\n",
        "\n",
        "# Define paths for Media and Weights folders within the base directory\n",
        "media_dir = os.path.join(base_dir, \"Media\")\n",
        "weights_dir = os.path.join(base_dir, \"Weights\")\n",
        "\n",
        "# List and print files in the Media and Weights folders\n",
        "print(\"Files in Media folder:\", os.listdir(media_dir))\n",
        "print(\"Files in Weights folder:\", os.listdir(weights_dir))\n",
        "\n",
        "# Example: Load the first file from the Media folder and print its path\n",
        "media_files = os.listdir(media_dir)\n",
        "if media_files:\n",
        "    media_file_path = os.path.join(media_dir, media_files[0])\n",
        "    print(f\"Accessing Media file: {media_file_path}\")\n",
        "\n",
        "# Example: Load the first file from the Weights folder and print its path\n",
        "weights_files = os.listdir(weights_dir)\n",
        "if weights_files:\n",
        "    weights_file_path = os.path.join(weights_dir, weights_files[0])\n",
        "    print(f\"Accessing Weights file: {weights_file_path}\")\n"
      ]
    },
    {
      "cell_type": "code",
      "execution_count": 1,
      "metadata": {},
      "outputs": [],
      "source": [
        "import cv2  # for image processing and computer vision\n",
        "import math  # math library\n",
        "from ultralytics import YOLO  # Import YOLO class from ultralytics\n",
        "import cvzone  # for computer vision functions"
      ]
    },
    {
      "cell_type": "code",
      "execution_count": 2,
      "metadata": {},
      "outputs": [],
      "source": [
        "# Load YOLO model with best trained weights\n",
        "yolo_model = YOLO(\"best.pt\")\n",
        "\n",
        "# Define class names\n",
        "class_labels = ['With Helmet', 'Without Helmet']"
      ]
    },
    {
      "cell_type": "code",
      "execution_count": 3,
      "metadata": {},
      "outputs": [
        {
          "name": "stdout",
          "output_type": "stream",
          "text": [
            "\n",
            "0: 512x640 1 With Helmet, 594.3ms\n",
            "Speed: 6.4ms preprocess, 594.3ms inference, 10.5ms postprocess per image at shape (1, 3, 512, 640)\n"
          ]
        }
      ],
      "source": [
        "# Load the image\n",
        "image_path = \"with2.jpg\"\n",
        "img = cv2.imread(image_path)\n",
        "\n",
        "# Perform object detection\n",
        "results = yolo_model(img)\n",
        "\n",
        "# Draw bounding boxes and count helmet vs no-helmet\n",
        "helmet_count = 0\n",
        "no_helmet_count = 0"
      ]
    },
    {
      "cell_type": "code",
      "execution_count": 4,
      "metadata": {},
      "outputs": [],
      "source": [
        "for result in results:\n",
        "    for box in result.boxes:\n",
        "        x1, y1, x2, y2 = map(int, box.xyxy[0])\n",
        "        conf = math.ceil((box.conf[0] * 100)) / 100  # Confidence score\n",
        "        cls = int(box.cls[0])  # Class index\n",
        "        label = class_labels[cls]\n",
        "\n",
        "        # Count helmet vs no-helmet\n",
        "        if label == 'With Helmet':\n",
        "            helmet_count += 1\n",
        "        else:\n",
        "            no_helmet_count += 1\n",
        "\n",
        "        # Draw bounding box and label\n",
        "        color = (0, 255, 0) if label == 'With Helmet' else (0, 0, 255)\n",
        "        cv2.rectangle(img, (x1, y1), (x2, y2), color, 2) # draws a rectangle of green/red color\n",
        "        cvzone.putTextRect(img, f'{label} {conf}', (x1, y1 - 10), scale=1, thickness=1, colorR=color) # puts the confidence limit on top of the rectangle"
      ]
    },
    {
      "cell_type": "code",
      "execution_count": 5,
      "metadata": {},
      "outputs": [
        {
          "name": "stdout",
          "output_type": "stream",
          "text": [
            "People wearing helmet: 1\n",
            "People without helmet: 0\n"
          ]
        }
      ],
      "source": [
        "import cv2\n",
        "\n",
        "# Create a resizable window\n",
        "cv2.namedWindow(\"Helmet Detection\", cv2.WINDOW_NORMAL)  \n",
        "cv2.resizeWindow(\"Helmet Detection\", 800, 400)  # Set width=1000, height=600\n",
        "\n",
        "# Show the image\n",
        "cv2.imshow(\"Helmet Detection\", img)\n",
        "cv2.waitKey(5000)  # Display for 5 seconds\n",
        "cv2.destroyAllWindows()\n",
        "\n",
        "# Print results\n",
        "print(f\"People wearing helmet: {helmet_count}\")\n",
        "print(f\"People without helmet: {no_helmet_count}\")\n"
      ]
    }
  ],
  "metadata": {
    "colab": {
      "provenance": []
    },
    "kernelspec": {
      "display_name": "Python 3",
      "language": "python",
      "name": "python3"
    },
    "language_info": {
      "codemirror_mode": {
        "name": "ipython",
        "version": 3
      },
      "file_extension": ".py",
      "mimetype": "text/x-python",
      "name": "python",
      "nbconvert_exporter": "python",
      "pygments_lexer": "ipython3",
      "version": "3.10.11"
    }
  },
  "nbformat": 4,
  "nbformat_minor": 0
}
