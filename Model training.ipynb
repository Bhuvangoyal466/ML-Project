{
 "cells": [
  {
   "cell_type": "code",
   "execution_count": null,
   "metadata": {
    "id": "IH7gStN9V-wt"
   },
   "outputs": [],
   "source": [
    "# !pip install gitpython>=3.1.30\n",
    "# !pip install matplotlib>=3.3\n",
    "# !pip install numpy>=1.23.5\n",
    "# !pip install opencv-python>=4.1.1\n",
    "# !pip install pillow>=10.3.0\n",
    "# !pip install psutil\n",
    "# !pip install PyYAML>=5.3.1\n",
    "# !pip install requests>=2.32.0\n",
    "# !pip install scipy>=1.4.1\n",
    "# !pip install thop>=0.1.1\n",
    "# !pip install torch>=1.8.0\n",
    "# !pip install torchvision>=0.9.0\n",
    "# !pip install tqdm>=4.64.0\n",
    "# !pip install ultralytics>=8.2.34\n",
    "# !pip install pandas>=1.1.4\n",
    "# !pip install seaborn>=0.11.0\n",
    "# !pip install setuptools>=65.5.1\n",
    "# !pip install filterpy\n",
    "# !pip install scikit-image\n",
    "# !pip install lap\n"
   ]
  },
  {
   "cell_type": "code",
   "execution_count": null,
   "metadata": {
    "colab": {
     "base_uri": "https://localhost:8080/"
    },
    "executionInfo": {
     "elapsed": 109,
     "status": "ok",
     "timestamp": 1741744869257,
     "user": {
      "displayName": "Bhuvan Goyal",
      "userId": "08408134330099663450"
     },
     "user_tz": -330
    },
    "id": "2YZn5qMSXWur",
    "outputId": "5b474c06-aedc-4390-ccae-bd4d01e1b914"
   },
   "outputs": [],
   "source": [
    "!nvidia-smi # check if the GPU is available"
   ]
  },
  {
   "cell_type": "code",
   "execution_count": null,
   "metadata": {
    "colab": {
     "base_uri": "https://localhost:8080/"
    },
    "executionInfo": {
     "elapsed": 109378,
     "status": "ok",
     "timestamp": 1741744983542,
     "user": {
      "displayName": "Bhuvan Goyal",
      "userId": "08408134330099663450"
     },
     "user_tz": -330
    },
    "id": "vr26qDltXk8Z",
    "outputId": "1c713cdf-d754-477c-a55d-d8f43c7cfc3e"
   },
   "outputs": [],
   "source": [
    "!pip install ultralytics "
   ]
  },
  {
   "cell_type": "code",
   "execution_count": null,
   "metadata": {
    "colab": {
     "base_uri": "https://localhost:8080/"
    },
    "executionInfo": {
     "elapsed": 69422,
     "status": "ok",
     "timestamp": 1741745060136,
     "user": {
      "displayName": "Bhuvan Goyal",
      "userId": "08408134330099663450"
     },
     "user_tz": -330
    },
    "id": "tzRUE2qVYBEi",
    "outputId": "6b119d6d-14f9-42a3-da24-3e3a787d64a8"
   },
   "outputs": [],
   "source": [
    "from google.colab import drive # mount the google drive\n",
    "drive.mount('/content/drive') "
   ]
  },
  {
   "cell_type": "code",
   "execution_count": null,
   "metadata": {
    "colab": {
     "base_uri": "https://localhost:8080/"
    },
    "executionInfo": {
     "elapsed": 121084,
     "status": "ok",
     "timestamp": 1741745185611,
     "user": {
      "displayName": "Bhuvan Goyal",
      "userId": "08408134330099663450"
     },
     "user_tz": -330
    },
    "id": "RCScfbUhYOoo",
    "outputId": "bc48b483-3d6f-44d7-d6a9-fe0f6acb75a0"
   },
   "outputs": [],
   "source": [
    "!yolo task=detect mode=train model=yolov8m.pt data=../content/drive/MyDrive/Datasets/BikeHelmet/data.yaml epochs=40 imgsz=640\n",
    "\n",
    "# task = detect, training the model, data.yaml contains the class names and dataset paths\n",
    "# training the model for 40 epochs, set the image size to 640x640 px"
   ]
  },
  {
   "cell_type": "code",
   "execution_count": null,
   "metadata": {},
   "outputs": [
    {
     "name": "stdout",
     "output_type": "stream",
     "text": [
      "Ultralytics 8.3.89 🚀 Python-3.10.11 torch-2.6.0+cpu CPU (11th Gen Intel Core(TM) i3-1115G4 3.00GHz)\n",
      "Model summary (fused): 92 layers, 25,840,918 parameters, 0 gradients, 78.7 GFLOPs\n"
     ]
    },
    {
     "name": "stderr",
     "output_type": "stream",
     "text": [
      "Traceback (most recent call last):\n",
      "  File \"E:\\project\\ML\\python\\lib\\runpy.py\", line 196, in _run_module_as_main\n",
      "    return _run_code(code, main_globals, None,\n",
      "  File \"E:\\project\\ML\\python\\lib\\runpy.py\", line 86, in _run_code\n",
      "    exec(code, run_globals)\n",
      "  File \"E:\\project\\ML\\python\\Scripts\\yolo.exe\\__main__.py\", line 7, in <module>\n",
      "  File \"E:\\project\\ML\\python\\lib\\site-packages\\ultralytics\\cfg\\__init__.py\", line 985, in entrypoint\n",
      "    getattr(model, mode)(**overrides)  # default args from model\n",
      "  File \"E:\\project\\ML\\python\\lib\\site-packages\\ultralytics\\engine\\model.py\", line 641, in val\n",
      "    validator(model=self.model)\n",
      "  File \"E:\\project\\ML\\python\\lib\\site-packages\\torch\\utils\\_contextlib.py\", line 116, in decorate_context\n",
      "    return func(*args, **kwargs)\n",
      "  File \"E:\\project\\ML\\python\\lib\\site-packages\\ultralytics\\engine\\validator.py\", line 147, in __call__\n",
      "    self.data = check_det_dataset(self.args.data)\n",
      "  File \"E:\\project\\ML\\python\\lib\\site-packages\\ultralytics\\data\\utils.py\", line 376, in check_det_dataset\n",
      "    raise FileNotFoundError(m)\n",
      "FileNotFoundError: \n",
      "Dataset 'data.yaml' images not found ⚠️, missing path 'D:\\Chitkara Books and PDFs\\Sem 4\\PBL\\data\\roboflow\\valid\\images'\n",
      "Note dataset download directory is 'D:\\Chitkara Books and PDFs\\Sem 4\\PBL\\data\\roboflow'. You can update this in 'C:\\Users\\heman\\AppData\\Roaming\\Ultralytics\\settings.json'\n"
     ]
    }
   ],
   "source": [
    "!yolo task=detect mode=val model=best.pt data=data.yaml"
   ]
  }
 ],
 "metadata": {
  "colab": {
   "authorship_tag": "ABX9TyMTV7wBBPqmSMbmLaEMlLJP",
   "provenance": []
  },
  "kernelspec": {
   "display_name": "Python 3",
   "name": "python3"
  },
  "language_info": {
   "codemirror_mode": {
    "name": "ipython",
    "version": 3
   },
   "file_extension": ".py",
   "mimetype": "text/x-python",
   "name": "python",
   "nbconvert_exporter": "python",
   "pygments_lexer": "ipython3",
   "version": "3.10.11"
  }
 },
 "nbformat": 4,
 "nbformat_minor": 0
}
